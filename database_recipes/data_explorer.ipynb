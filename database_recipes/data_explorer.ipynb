{
 "cells": [
  {
   "cell_type": "markdown",
   "metadata": {},
   "source": [
    "# Cookie recipe dataset\n",
    "\n",
    "Normalized for 48 servings"
   ]
  },
  {
   "cell_type": "code",
   "execution_count": 2,
   "metadata": {},
   "outputs": [],
   "source": [
    "import numpy as np\n",
    "import pandas as pd"
   ]
  },
  {
   "cell_type": "code",
   "execution_count": 3,
   "metadata": {},
   "outputs": [],
   "source": [
    "df_cookies = pd.read_csv(\"./data/data_48_servings.csv\")"
   ]
  },
  {
   "cell_type": "code",
   "execution_count": 4,
   "metadata": {},
   "outputs": [],
   "source": [
    "df_cookies.sort_values(by=\"recipe_index\", inplace=True)\n",
    "d_rpi = dict()\n",
    "k = 1\n",
    "for rpi in df_cookies.recipe_index.values:\n",
    "    if rpi not in d_rpi:\n",
    "        d_rpi[rpi] = k\n",
    "        k += 1\n",
    "df_cookies.recipe_index = df_cookies.recipe_index.map(lambda x: d_rpi[x])\n",
    "df_cookies.drop([\"alt_index\"], axis=1, inplace=True)"
   ]
  },
  {
   "cell_type": "code",
   "execution_count": 5,
   "metadata": {},
   "outputs": [
    {
     "data": {
      "text/html": [
       "<div>\n",
       "<style scoped>\n",
       "    .dataframe tbody tr th:only-of-type {\n",
       "        vertical-align: middle;\n",
       "    }\n",
       "\n",
       "    .dataframe tbody tr th {\n",
       "        vertical-align: top;\n",
       "    }\n",
       "\n",
       "    .dataframe thead th {\n",
       "        text-align: right;\n",
       "    }\n",
       "</style>\n",
       "<table border=\"1\" class=\"dataframe\">\n",
       "  <thead>\n",
       "    <tr style=\"text-align: right;\">\n",
       "      <th></th>\n",
       "      <th>ingredient</th>\n",
       "      <th>text</th>\n",
       "      <th>recipe_index</th>\n",
       "      <th>rating</th>\n",
       "      <th>quantity</th>\n",
       "      <th>unit</th>\n",
       "    </tr>\n",
       "  </thead>\n",
       "  <tbody>\n",
       "    <tr>\n",
       "      <th>0</th>\n",
       "      <td>all purpose flour</td>\n",
       "      <td>3.0 cups all purpose flour</td>\n",
       "      <td>1</td>\n",
       "      <td>0.920725</td>\n",
       "      <td>3.000000</td>\n",
       "      <td>cup</td>\n",
       "    </tr>\n",
       "    <tr>\n",
       "      <th>1783</th>\n",
       "      <td>semisweet chocolate chip</td>\n",
       "      <td>2.0 cups semisweet chocolate chips</td>\n",
       "      <td>1</td>\n",
       "      <td>0.920725</td>\n",
       "      <td>2.000000</td>\n",
       "      <td>cup</td>\n",
       "    </tr>\n",
       "    <tr>\n",
       "      <th>250</th>\n",
       "      <td>baking soda</td>\n",
       "      <td>1.0 teaspoon baking soda</td>\n",
       "      <td>1</td>\n",
       "      <td>0.920725</td>\n",
       "      <td>1.000000</td>\n",
       "      <td>teaspoon</td>\n",
       "    </tr>\n",
       "    <tr>\n",
       "      <th>1576</th>\n",
       "      <td>light brown sugar</td>\n",
       "      <td>1.0 cup packed brown sugar</td>\n",
       "      <td>1</td>\n",
       "      <td>0.920725</td>\n",
       "      <td>1.000000</td>\n",
       "      <td>cup</td>\n",
       "    </tr>\n",
       "    <tr>\n",
       "      <th>1565</th>\n",
       "      <td>water</td>\n",
       "      <td>2.0 teaspoons hot water</td>\n",
       "      <td>1</td>\n",
       "      <td>0.920725</td>\n",
       "      <td>0.041000</td>\n",
       "      <td>cup</td>\n",
       "    </tr>\n",
       "    <tr>\n",
       "      <th>...</th>\n",
       "      <td>...</td>\n",
       "      <td>...</td>\n",
       "      <td>...</td>\n",
       "      <td>...</td>\n",
       "      <td>...</td>\n",
       "      <td>...</td>\n",
       "    </tr>\n",
       "    <tr>\n",
       "      <th>1764</th>\n",
       "      <td>light brown sugar</td>\n",
       "      <td>2.0 cup packed light brown sugar</td>\n",
       "      <td>209</td>\n",
       "      <td>NaN</td>\n",
       "      <td>2.000000</td>\n",
       "      <td>cup</td>\n",
       "    </tr>\n",
       "    <tr>\n",
       "      <th>847</th>\n",
       "      <td>egg</td>\n",
       "      <td>5.33333333333 large eggs, cold</td>\n",
       "      <td>209</td>\n",
       "      <td>NaN</td>\n",
       "      <td>5.333333</td>\n",
       "      <td>egg</td>\n",
       "    </tr>\n",
       "    <tr>\n",
       "      <th>436</th>\n",
       "      <td>baking soda</td>\n",
       "      <td>2.66666666667 teaspoon baking soda</td>\n",
       "      <td>209</td>\n",
       "      <td>NaN</td>\n",
       "      <td>2.666667</td>\n",
       "      <td>teaspoon</td>\n",
       "    </tr>\n",
       "    <tr>\n",
       "      <th>192</th>\n",
       "      <td>all purpose flour</td>\n",
       "      <td>7.33333333333 cups all purpose flour* plus a t...</td>\n",
       "      <td>209</td>\n",
       "      <td>NaN</td>\n",
       "      <td>7.333333</td>\n",
       "      <td>cup</td>\n",
       "    </tr>\n",
       "    <tr>\n",
       "      <th>1316</th>\n",
       "      <td>sugar</td>\n",
       "      <td>2.0 cup granulated sugar</td>\n",
       "      <td>209</td>\n",
       "      <td>NaN</td>\n",
       "      <td>2.000000</td>\n",
       "      <td>cup</td>\n",
       "    </tr>\n",
       "  </tbody>\n",
       "</table>\n",
       "<p>1990 rows × 6 columns</p>\n",
       "</div>"
      ],
      "text/plain": [
       "                    ingredient  \\\n",
       "0            all purpose flour   \n",
       "1783  semisweet chocolate chip   \n",
       "250                baking soda   \n",
       "1576         light brown sugar   \n",
       "1565                     water   \n",
       "...                        ...   \n",
       "1764         light brown sugar   \n",
       "847                        egg   \n",
       "436                baking soda   \n",
       "192          all purpose flour   \n",
       "1316                     sugar   \n",
       "\n",
       "                                                   text  recipe_index  \\\n",
       "0                            3.0 cups all purpose flour             1   \n",
       "1783                 2.0 cups semisweet chocolate chips             1   \n",
       "250                            1.0 teaspoon baking soda             1   \n",
       "1576                         1.0 cup packed brown sugar             1   \n",
       "1565                            2.0 teaspoons hot water             1   \n",
       "...                                                 ...           ...   \n",
       "1764                   2.0 cup packed light brown sugar           209   \n",
       "847                      5.33333333333 large eggs, cold           209   \n",
       "436                  2.66666666667 teaspoon baking soda           209   \n",
       "192   7.33333333333 cups all purpose flour* plus a t...           209   \n",
       "1316                           2.0 cup granulated sugar           209   \n",
       "\n",
       "        rating  quantity      unit  \n",
       "0     0.920725  3.000000       cup  \n",
       "1783  0.920725  2.000000       cup  \n",
       "250   0.920725  1.000000  teaspoon  \n",
       "1576  0.920725  1.000000       cup  \n",
       "1565  0.920725  0.041000       cup  \n",
       "...        ...       ...       ...  \n",
       "1764       NaN  2.000000       cup  \n",
       "847        NaN  5.333333       egg  \n",
       "436        NaN  2.666667  teaspoon  \n",
       "192        NaN  7.333333       cup  \n",
       "1316       NaN  2.000000       cup  \n",
       "\n",
       "[1990 rows x 6 columns]"
      ]
     },
     "execution_count": 5,
     "metadata": {},
     "output_type": "execute_result"
    }
   ],
   "source": [
    "df_cookies"
   ]
  },
  {
   "cell_type": "code",
   "execution_count": 7,
   "metadata": {},
   "outputs": [
    {
     "data": {
      "text/plain": [
       "['cup', 'teaspoon', 'egg', 'tablespoon', 'ounce']"
      ]
     },
     "execution_count": 7,
     "metadata": {},
     "output_type": "execute_result"
    }
   ],
   "source": [
    "list(df_cookies.unit.value_counts().index)"
   ]
  },
  {
   "cell_type": "markdown",
   "metadata": {},
   "source": [
    "- Should we renormalize units?\n",
    "\n",
    "- Need to split df into recipes: dict format?"
   ]
  },
  {
   "cell_type": "markdown",
   "metadata": {},
   "source": []
  }
 ],
 "metadata": {
  "kernelspec": {
   "display_name": "Python 3.10.2 64-bit",
   "language": "python",
   "name": "python3"
  },
  "language_info": {
   "codemirror_mode": {
    "name": "ipython",
    "version": 3
   },
   "file_extension": ".py",
   "mimetype": "text/x-python",
   "name": "python",
   "nbconvert_exporter": "python",
   "pygments_lexer": "ipython3",
   "version": "3.10.2"
  },
  "orig_nbformat": 4,
  "vscode": {
   "interpreter": {
    "hash": "369f2c481f4da34e4445cda3fffd2e751bd1c4d706f27375911949ba6bb62e1c"
   }
  }
 },
 "nbformat": 4,
 "nbformat_minor": 2
}
