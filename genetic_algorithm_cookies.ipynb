{
 "cells": [
  {
   "cell_type": "code",
   "execution_count": null,
   "metadata": {},
   "outputs": [],
   "source": []
  }
 ],
 "metadata": {
  "kernelspec": {
   "display_name": "Python 2.7.18 64-bit",
   "language": "python",
   "name": "python3"
  },
  "language_info": {
   "name": "python",
   "version": "2.7.18"
  },
  "orig_nbformat": 4,
  "vscode": {
   "interpreter": {
    "hash": "d6248864f58b5a9a10dd3ab44a0b1668ea608c6d64d96b764c5e1b824bc50df5"
   }
  }
 },
 "nbformat": 4,
 "nbformat_minor": 2
}
