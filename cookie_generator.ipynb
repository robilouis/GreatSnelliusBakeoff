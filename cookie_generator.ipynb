{
 "cells": [
  {
   "cell_type": "markdown",
   "metadata": {
    "id": "XH7clvIQFH9a"
   },
   "source": [
    "# Implementation of the Liquorlicious Cookie Generator"
   ]
  },
  {
   "cell_type": "markdown",
   "metadata": {
    "id": "sKVfa9ICtSwk"
   },
   "source": [
    "## Loading the Inspiring Set"
   ]
  },
  {
   "cell_type": "code",
   "execution_count": 1,
   "metadata": {
    "id": "7IaFfcGlFG75"
   },
   "outputs": [],
   "source": [
    "import json\n",
    "import pprint\n",
    "import random\n",
    "import math\n",
    "\n",
    "f = open('recipe_set.json')\n",
    "\n",
    "recipes = json.load(f)\n",
    "\n",
    "all_ingredients = []\n",
    "for recipe in recipes:\n",
    "    for r_index in range(len(recipe['ingredients'])):\n",
    "        all_ingredients.append({'ingredients':recipe['ingredients'][r_index], \n",
    "                                'amount':recipe['amount'][r_index], \n",
    "                                'unit':recipe['unit'][r_index], \n",
    "                                'category':recipe['category'][r_index], \n",
    "                                'cat_freq':recipe['cat_freq'][r_index], \n",
    "                                'base':recipe['base'][r_index]})"
   ]
  },
  {
   "cell_type": "markdown",
   "metadata": {},
   "source": [
    "Code below checks what ingredients have multiple units"
   ]
  },
  {
   "cell_type": "code",
   "execution_count": 2,
   "metadata": {},
   "outputs": [
    {
     "name": "stdout",
     "output_type": "stream",
     "text": [
      "flour {'cup', 'tbs'}\n",
      "mashed banana {'cup', 'cups'}\n",
      "vanilla extract {'tbs', 'tsp'}\n",
      "cocoa powder {'cup', 'tbs'}\n",
      "brown sugar {'cup', 'tbs'}\n",
      "sea salt {'pinch', 'tsp'}\n",
      "salt {'pinch', 'tsp'}\n",
      "molasses {'cup', 'tbs'}\n",
      "butter {'cup', 'tbs'}\n"
     ]
    }
   ],
   "source": [
    "ing = []\n",
    "for i in all_ingredients:\n",
    "    ing.append(i['ingredients'])\n",
    "\n",
    "ing_units = []\n",
    "for i in list(set(ing)):\n",
    "    units = []\n",
    "    for j in all_ingredients:\n",
    "        if i == j['ingredients']:\n",
    "            units.append(j['unit'])\n",
    "    units = set(units)\n",
    "    if len(units) > 1:\n",
    "        print(i, units)\n",
    "    ing_units.append([i, units])"
   ]
  },
  {
   "cell_type": "markdown",
   "metadata": {
    "id": "l5S0pYmvLx0e"
   },
   "source": [
    "## Creating an Initial Population\n",
    "\n",
    "Now we can create an initial population, by first defining the population size and then selecting from the list of recipes."
   ]
  },
  {
   "cell_type": "code",
   "execution_count": 3,
   "metadata": {
    "id": "VufUj12ML1V7"
   },
   "outputs": [
    {
     "name": "stdout",
     "output_type": "stream",
     "text": [
      "gluten free chocolate chip cookies\n",
      "brown sugar beer cookies \n",
      "pumpkin chocolate chip cookies\n",
      "rum spiked chocolate chip cookies \n",
      "healthy zucchini cookies (paleo)\n",
      "white chocolate cranberry cookies\n",
      "pumpkin oatmeal cookie recipe\n",
      "banana oatmeal cookies\n",
      "healthy zucchini cookies (paleo)\n",
      "lactation cookies\n",
      "pumpkin oatmeal cookie recipe\n",
      "peanut butter oatmeal cookies\n",
      "brown sugar beer cookies \n",
      "chocolate brownie cookies reicpe\n",
      "gluten free chocolate chip cookies\n",
      "soft gingerbread cookies\n",
      "banana oatmeal cookies\n",
      "white chocolate chip cookies\n",
      "gluten free chocolate chip cookies\n",
      "brown sugar beer cookies \n"
     ]
    }
   ],
   "source": [
    "population_size = 20\n",
    "population = random.choices(recipes, k=population_size)\n",
    "\n",
    "# display population titles\n",
    "for p in population:\n",
    "    print(p['title'])"
   ]
  },
  {
   "cell_type": "markdown",
   "metadata": {
    "id": "H7duEmJnOfi0"
   },
   "source": [
    "## Evaluating Recipes (Fitness Function)"
   ]
  },
  {
   "cell_type": "code",
   "execution_count": 4,
   "metadata": {
    "id": "fLSNus4iOs_L"
   },
   "outputs": [],
   "source": [
    "def evaluate_recipes(recipes):\n",
    "  for r in recipes:\n",
    "    r['fitness'] = len(r['ingredients'])"
   ]
  },
  {
   "cell_type": "code",
   "execution_count": 5,
   "metadata": {
    "id": "qvA7IsCJaZUw"
   },
   "outputs": [
    {
     "name": "stdout",
     "output_type": "stream",
     "text": [
      "15 lactation cookies\n",
      "14 pumpkin oatmeal cookie recipe\n",
      "14 pumpkin oatmeal cookie recipe\n",
      "13 pumpkin chocolate chip cookies\n",
      "12 healthy zucchini cookies (paleo)\n",
      "12 healthy zucchini cookies (paleo)\n",
      "12 peanut butter oatmeal cookies\n",
      "11 brown sugar beer cookies \n",
      "11 white chocolate cranberry cookies\n",
      "11 brown sugar beer cookies \n",
      "11 soft gingerbread cookies\n",
      "11 brown sugar beer cookies \n",
      "10 gluten free chocolate chip cookies\n",
      "10 rum spiked chocolate chip cookies \n",
      "10 chocolate brownie cookies reicpe\n",
      "10 gluten free chocolate chip cookies\n",
      "10 white chocolate chip cookies\n",
      "10 gluten free chocolate chip cookies\n",
      "8 banana oatmeal cookies\n",
      "8 banana oatmeal cookies\n"
     ]
    }
   ],
   "source": [
    "evaluate_recipes(population)\n",
    "population = sorted(population, reverse = True, key = lambda r: r['fitness'])\n",
    "\n",
    "# display population fitness\n",
    "for p in population:\n",
    "    print(p['fitness'], p['title'])"
   ]
  },
  {
   "cell_type": "markdown",
   "metadata": {
    "id": "LHYYL0jlw_yi"
   },
   "source": [
    "## Selecting Recipes\n",
    "\n",
    "The following function implements Roulette Wheel selection of individuals based on their fitness:"
   ]
  },
  {
   "cell_type": "code",
   "execution_count": 6,
   "metadata": {
    "id": "6QIW7GdqPaBo"
   },
   "outputs": [],
   "source": [
    "def select_recipe(recipes):\n",
    "  sum_fitness = sum([recipe['fitness'] for recipe in recipes])\n",
    "  f = random.randint(0, sum_fitness)\n",
    "  for recipe in recipes:\n",
    "    if f < recipe['fitness']:\n",
    "      return recipe\n",
    "    f -= recipe['fitness']\n",
    "  return recipes[-1]"
   ]
  },
  {
   "cell_type": "markdown",
   "metadata": {
    "id": "v16okoEga4HG"
   },
   "source": [
    "## Genetic Operators"
   ]
  },
  {
   "cell_type": "markdown",
   "metadata": {},
   "source": [
    "Helper functions for crossover_recipes"
   ]
  },
  {
   "cell_type": "code",
   "execution_count": 7,
   "metadata": {},
   "outputs": [],
   "source": [
    "def get_partial_recipe(recipe, start, end):\n",
    "    \n",
    "    partial_recipe = {}\n",
    "    partial_recipe['ingredients'] = recipe['ingredients'][start:end]\n",
    "    partial_recipe['amount'] = recipe['amount'][start:end]\n",
    "    partial_recipe['unit'] = recipe['unit'][start:end]\n",
    "    partial_recipe['category'] = recipe['category'][start:end]\n",
    "    partial_recipe['cat_freq'] = recipe['cat_freq'][start:end]\n",
    "    partial_recipe['base'] = recipe['base'][start:end]\n",
    "    \n",
    "    return partial_recipe\n",
    "\n",
    "def combine_recipes(r1, r2):\n",
    "    combined = {}\n",
    "    combined['ingredients'] = r1['ingredients'] + r2['ingredients']\n",
    "    combined['amount'] = r1['amount'] + r2['amount']\n",
    "    combined['unit'] = r1['unit'] + r2['unit']\n",
    "    combined['category'] = r1['category'] + r2['category']\n",
    "    combined['cat_freq'] = r1['cat_freq'] + r2['cat_freq']\n",
    "    combined['base'] = r1['base'] + r2['base']\n",
    "    \n",
    "    return combined"
   ]
  },
  {
   "cell_type": "code",
   "execution_count": 8,
   "metadata": {
    "id": "pF71t029XdOQ"
   },
   "outputs": [],
   "source": [
    "recipe_number = 1\n",
    "\n",
    "def crossover_recipes(r1, r2):\n",
    "    global recipe_number\n",
    "    p1 = random.randint(1, len(r1['ingredients']))\n",
    "    p2 = random.randint(0, len(r2['ingredients'])-1)\n",
    "    \n",
    "    r1a = get_partial_recipe(r1, 0, p1)\n",
    "    r2b = get_partial_recipe(r2, p2, len(r2['ingredients']))\n",
    "    \n",
    "    r = dict()\n",
    "    r['name'] = \"recipe {}\".format(recipe_number)\n",
    "    recipe_number += 1\n",
    "    r = combine_recipes(r1a, r2b)\n",
    "    return r"
   ]
  },
  {
   "cell_type": "markdown",
   "metadata": {
    "id": "4lXYJJphbUtz"
   },
   "source": [
    "The mutation operator changes a recipe using one of several different types of mutations:\n",
    "1. increasing the amount of an ingredient by 10%\n",
    "2. decreasing the amount of an ingredient by 10%\n",
    "3. changing the ingredient to a random ingredient\n",
    "4. changing the ingredient to one in its own category\n",
    "5. adding an ingredient\n",
    "6. removing an ingredient"
   ]
  },
  {
   "cell_type": "code",
   "execution_count": 9,
   "metadata": {
    "id": "uNMDIR8dXiDD"
   },
   "outputs": [],
   "source": [
    "def mutate_recipe(r):    \n",
    "    weights = [1,1,.25,.5,.5,.25]\n",
    "    m = random.choices(list(range(6)), weights=weights, k=1)[0]\n",
    "    \n",
    "    # increase amount by 10%\n",
    "    if m == 0:\n",
    "        i = random.randint(0, len(r['ingredients'])-1)\n",
    "        r['amount'][i] += r['amount'][i] * 0.1\n",
    "    \n",
    "    # decrease amount by 10%\n",
    "    elif m == 1:\n",
    "        i = random.randint(0, len(r['ingredients'])-1)\n",
    "        r['amount'][i] -= r['amount'][i] * 0.1\n",
    "        \n",
    "    # replace ingredient by another ingredient\n",
    "    elif m == 2: \n",
    "        i = random.randint(0, len(r['ingredients'])-1)\n",
    "        ing = random.choice(all_ingredients)\n",
    "        r['ingredients'][i] = ing['ingredients']\n",
    "        r['amount'][i] = ing['amount']\n",
    "        r['unit'][i] = ing['unit']\n",
    "        r['category'][i] = ing['category']\n",
    "        r['cat_freq'][i] = ing['cat_freq']\n",
    "        r['base'][i] = ing['base']\n",
    "    \n",
    "    # replace ingredient by another ingredient in same category\n",
    "    # to do:\n",
    "    elif m == 3:\n",
    "        mutate_recipe(r)\n",
    "    \n",
    "    # add random ingredient\n",
    "    elif m == 4:\n",
    "        ing = random.choice(all_ingredients)\n",
    "        r['ingredients'].append(ing['ingredients'])\n",
    "        r['amount'].append(ing['amount'])\n",
    "        r['unit'].append(ing['unit'])\n",
    "        r['category'].append(ing['category'])\n",
    "        r['cat_freq'].append(ing['cat_freq'])\n",
    "        r['base'].append(ing['base'])\n",
    "        \n",
    "    # remove random ingredient\n",
    "    else:\n",
    "        if len(r['ingredients']) > 1:\n",
    "            i = random.randint(0, len(r['ingredients'])-1)\n",
    "            del r['ingredients'][i]\n",
    "            del r['amount'][i]\n",
    "            del r['unit'][i]\n",
    "            del r['category'][i]\n",
    "            del r['cat_freq'][i]\n",
    "            del r['base'][i]"
   ]
  },
  {
   "cell_type": "markdown",
   "metadata": {
    "id": "o342LNx9bzhq"
   },
   "source": [
    "The following function is domain-specific and normalises a generated recipe by removing duplicate ingredients (combining the amounts of all instances of an ingredient) and rescaling the volume of ingredients listed to 1 litre (1000 units)."
   ]
  },
  {
   "cell_type": "code",
   "execution_count": 10,
   "metadata": {
    "id": "gOlZSTZ5R4Fb"
   },
   "outputs": [],
   "source": [
    "def normalise_recipe(r):\n",
    "  unique_ingredients = dict()\n",
    "  for i in r['ingredients']:\n",
    "    if i['ingredient'] in unique_ingredients:\n",
    "      n = unique_ingredients[i['ingredient']]\n",
    "      n['amount'] += i['amount']\n",
    "    else:\n",
    "      unique_ingredients[i['ingredient']] = i.copy()\n",
    "  r['ingredients'] = list(unique_ingredients.values())\n",
    "\n",
    "  sum_amounts = sum([i['amount'] for i in r['ingredients']])\n",
    "  scale = 1000 / sum_amounts\n",
    "  for i in r['ingredients']:\n",
    "    i['amount'] = max(1, math.floor(i['amount'] * scale))\n",
    "    \n",
    "def remove_duplicate_ingredients(r):\n",
    "    to_remove = []\n",
    "    num_ingredients = len(r['ingredients'])\n",
    "    \n",
    "    for i in range(num_ingredients):\n",
    "        for j in range(num_ingredients):\n",
    "            if i != j and r['ingredients'][i] == r['ingredients'][j] and r['unit'][i] == r['unit'][i]:\n",
    "                r['amount'][i] += r['amount'][j]\n",
    "                r['ingredients'][j] = '__'\n",
    "                to_remove.append(j)\n",
    "\n",
    "    to_remove = sorted(list(set(to_remove)), reverse=True)\n",
    "    for i in to_remove:\n",
    "        del r['ingredients'][i]\n",
    "        del r['amount'][i]\n",
    "        del r['unit'][i]\n",
    "        del r['category'][i]\n",
    "        del r['cat_freq'][i]\n",
    "        del r['base'][i]\n",
    "    return r"
   ]
  },
  {
   "cell_type": "markdown",
   "metadata": {
    "id": "6uKR2dtHccN0"
   },
   "source": [
    "## Generating Recipes\n",
    "\n",
    "We use the above functions to generate recipes."
   ]
  },
  {
   "cell_type": "code",
   "execution_count": 11,
   "metadata": {
    "id": "0OnxaOpTXU07"
   },
   "outputs": [],
   "source": [
    "def generate_recipes(size, population):\n",
    "  R = []\n",
    "  while len(R) < size:\n",
    "    r1 = select_recipe(population)\n",
    "    r2 = select_recipe(population)\n",
    "    r = crossover_recipes(r1, r2)\n",
    "    mutate_recipe(r)\n",
    "#     normalise_recipe(r)\n",
    "    remove_duplicate_ingredients(r)\n",
    "    R.append(r)\n",
    "  evaluate_recipes(R)\n",
    "  return R"
   ]
  },
  {
   "cell_type": "markdown",
   "metadata": {
    "id": "QgSi4_dYcnTZ"
   },
   "source": [
    "## Selecting a New Population\n",
    "\n",
    "The final function that we need to implement is one that selects a new population given the previous population and the generated recipes."
   ]
  },
  {
   "cell_type": "code",
   "execution_count": 12,
   "metadata": {
    "id": "I04KiYTTiM5f"
   },
   "outputs": [],
   "source": [
    "def select_population(P, R):\n",
    "  R = sorted(R, reverse = True, key = lambda r: r['fitness'])\n",
    "  P = P[0:len(P)//2] + R[0:len(R)//2]\n",
    "  P = sorted(P, reverse = True, key = lambda r: r['fitness'])\n",
    "  return P"
   ]
  },
  {
   "cell_type": "markdown",
   "metadata": {
    "id": "-q6K1dVwdmxt"
   },
   "source": [
    "## Putting it All Together...\n",
    "\n",
    "To run the genetic algorithm, we repeat here the code to set up and evaluated an initial population, before running the evolutionary process for a number of steps."
   ]
  },
  {
   "cell_type": "code",
   "execution_count": 15,
   "metadata": {
    "id": "EmpTprBUX-UH"
   },
   "outputs": [],
   "source": [
    "population = random.choices(recipes, k=population_size)\n",
    "evaluate_recipes(population)\n",
    "population = sorted(population, reverse = True, key = lambda r: r['fitness'])\n",
    "\n",
    "max_fitnesses = []\n",
    "min_fitnesses = []\n",
    "\n",
    "num_generations = 500\n",
    "for i in range(num_generations):\n",
    "  R = generate_recipes(population_size, population)\n",
    "  population = select_population(population, R)\n",
    "  max_fitnesses.append(population[0]['fitness'])\n",
    "  min_fitnesses.append(population[-1]['fitness'])"
   ]
  },
  {
   "cell_type": "markdown",
   "metadata": {
    "id": "QO-xVl-9d5TS"
   },
   "source": [
    "We can check on the progress of the evolution by plotting the fitness history we captured above. Here we plot both the maximum fitness each population and the range fitnesses (filling between max fitness and min fitness)."
   ]
  },
  {
   "cell_type": "code",
   "execution_count": 18,
   "metadata": {
    "colab": {
     "base_uri": "https://localhost:8080/",
     "height": 295
    },
    "id": "6BOllLG0dB3W",
    "outputId": "0cbe57b2-23c4-4884-bb16-59126900182a"
   },
   "outputs": [
    {
     "data": {
      "image/png": "[encoded data removed]",
      "text/plain": [
       "<Figure size 640x480 with 1 Axes>"
      ]
     },
     "metadata": {},
     "output_type": "display_data"
    }
   ],
   "source": [
    "import matplotlib.pyplot as plt\n",
    "\n",
    "x  = range(num_generations)\n",
    "plt.plot(x, max_fitnesses, label=\"line L\")\n",
    "plt.fill_between(x, min_fitnesses, max_fitnesses, alpha=0.2)\n",
    "plt.plot()\n",
    "\n",
    "plt.xlabel(\"generation\")\n",
    "plt.ylabel(\"fitness\")\n",
    "plt.title(\"fitness over time\")\n",
    "plt.legend()\n",
    "plt.show()"
   ]
  },
  {
   "cell_type": "markdown",
   "metadata": {
    "id": "sPm8Ps0ceT2B"
   },
   "source": [
    "Finally, because the recipe is always sorted according to fitness, the fittest individual will be the one in the first position, so we can print this out."
   ]
  }
 ],
 "metadata": {
  "colab": {
   "collapsed_sections": [],
   "provenance": [],
   "toc_visible": true
  },
  "kernelspec": {
   "display_name": "Python 3 (ipykernel)",
   "language": "python",
   "name": "python3"
  },
  "language_info": {
   "codemirror_mode": {
    "name": "ipython",
    "version": 3
   },
   "file_extension": ".py",
   "mimetype": "text/x-python",
   "name": "python",
   "nbconvert_exporter": "python",
   "pygments_lexer": "ipython3",
   "version": "3.8.10"
  }
 },
 "nbformat": 4,
 "nbformat_minor": 1
}
